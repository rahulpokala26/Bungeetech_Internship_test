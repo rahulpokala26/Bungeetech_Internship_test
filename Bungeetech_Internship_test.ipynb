{
  "nbformat": 4,
  "nbformat_minor": 0,
  "metadata": {
    "colab": {
      "name": "Bungeetech_Internship_test",
      "provenance": [],
      "collapsed_sections": [],
      "authorship_tag": "ABX9TyMrjQmn0C2MriGbKoCpAbgX",
      "include_colab_link": true
    },
    "kernelspec": {
      "name": "python3",
      "display_name": "Python 3"
    },
    "language_info": {
      "name": "python"
    }
  },
  "cells": [
    {
      "cell_type": "markdown",
      "metadata": {
        "id": "view-in-github",
        "colab_type": "text"
      },
      "source": [
        "<a href=\"https://colab.research.google.com/github/rahulpokala26/Bungeetech_Internship_test/blob/main/Bungeetech_Internship_test.ipynb\" target=\"_parent\"><img src=\"https://colab.research.google.com/assets/colab-badge.svg\" alt=\"Open In Colab\"/></a>"
      ]
    },
    {
      "cell_type": "markdown",
      "metadata": {
        "id": "uIhhWt-wNxCP"
      },
      "source": [
        "### **Importing Packages to work with data files**\n"
      ]
    },
    {
      "cell_type": "code",
      "metadata": {
        "id": "2mqKx7QWYwVy"
      },
      "source": [
        "import pandas as pd"
      ],
      "execution_count": 135,
      "outputs": []
    },
    {
      "cell_type": "markdown",
      "metadata": {
        "id": "_F7oRKRaOFMW"
      },
      "source": [
        "# **Reading the csv file**\n",
        "\n",
        "---\n",
        "Here i have imported main.csv file into a variable \"data\"\n"
      ]
    },
    {
      "cell_type": "code",
      "metadata": {
        "id": "3U8JruPaZgA4"
      },
      "source": [
        "data = pd.read_csv(\"/content/main.csv\")\n",
        "data.head()"
      ],
      "execution_count": null,
      "outputs": []
    },
    {
      "cell_type": "markdown",
      "metadata": {
        "id": "1CQ9SPOsOWEX"
      },
      "source": [
        "# **Creating an output file \"filteredCountry.csv\". This file contain only those records where country contains the word USA.**"
      ]
    },
    {
      "cell_type": "code",
      "metadata": {
        "id": "so0EpQkkZ_js"
      },
      "source": [
        "rows_Containing_USA = data.loc[data['COUNTRY'].str.contains('USA')]"
      ],
      "execution_count": 137,
      "outputs": []
    },
    {
      "cell_type": "code",
      "metadata": {
        "id": "vmlkdWoxcfgU"
      },
      "source": [
        "rows_Containing_USA.to_csv('filteredCountry.csv',index=False) "
      ],
      "execution_count": 138,
      "outputs": []
    },
    {
      "cell_type": "code",
      "metadata": {
        "id": "JkpSOzyLehYO"
      },
      "source": [
        "filteredCountry.head()"
      ],
      "execution_count": null,
      "outputs": []
    },
    {
      "cell_type": "markdown",
      "metadata": {
        "id": "h3eay4gOOzfV"
      },
      "source": [
        "# **Retreiving only the required data**"
      ]
    },
    {
      "cell_type": "code",
      "metadata": {
        "id": "paucV2-TemOC"
      },
      "source": [
        "new_data = filteredCountry[['SKU','PRICE']]\n",
        "new_data.head()"
      ],
      "execution_count": null,
      "outputs": []
    },
    {
      "cell_type": "markdown",
      "metadata": {
        "id": "0uKdOGZ3O6WL"
      },
      "source": [
        "# **Price data is modified from object type to float type**"
      ]
    },
    {
      "cell_type": "code",
      "metadata": {
        "id": "FPlqem94gRLJ"
      },
      "source": [
        "def clean_currency(x):\n",
        "    if isinstance(x, str):\n",
        "        return(x.replace('$', '').replace(',', '').replace('?', ''))\n",
        "    return(x)"
      ],
      "execution_count": 140,
      "outputs": []
    },
    {
      "cell_type": "code",
      "metadata": {
        "id": "KsOeqA2WhDi9"
      },
      "source": [
        "new_data['PRICE'] = new_data['PRICE'].apply(clean_currency).astype('float')"
      ],
      "execution_count": null,
      "outputs": []
    },
    {
      "cell_type": "code",
      "metadata": {
        "id": "nL9ISqEuiCdp"
      },
      "source": [
        "new_data.to_csv('modified_filtered_country.csv',index=False)"
      ],
      "execution_count": 144,
      "outputs": []
    },
    {
      "cell_type": "code",
      "metadata": {
        "id": "jY8HLmlVtw2T"
      },
      "source": [
        "first_and_second_min_prices = pd.read_csv(\"/content/modified_filtered_country.csv\")\n",
        "first_and_second_min_prices.head()"
      ],
      "execution_count": null,
      "outputs": []
    },
    {
      "cell_type": "markdown",
      "metadata": {
        "id": "1ERN59obPI3x"
      },
      "source": [
        "# **Grouping the SKU's along with First_minimum_price & Second_minimum_price**"
      ]
    },
    {
      "cell_type": "code",
      "metadata": {
        "id": "2Czywky8C37k"
      },
      "source": [
        "temp_data = first_and_second_min_prices.sort_values(['SKU','PRICE']).groupby('SKU').nth(1)\n",
        "temp_data['FIRST_MINIMUM_PRICE'] = first_and_second_min_prices.sort_values(['SKU','PRICE']).groupby('SKU').min()\n",
        "temp_data['SECOND_MINIMUM_PRICE'] = first_and_second_min_prices.sort_values(['SKU','PRICE']).groupby('SKU').nth(1)"
      ],
      "execution_count": 148,
      "outputs": []
    },
    {
      "cell_type": "code",
      "metadata": {
        "id": "wkOQ_lZeGO4t"
      },
      "source": [
        "temp_data.head()"
      ],
      "execution_count": null,
      "outputs": []
    },
    {
      "cell_type": "code",
      "metadata": {
        "id": "0vG5221pJJ6i"
      },
      "source": [
        "temp_data.to_csv('temp_lowest_price.csv',index_label=\"SKU\")"
      ],
      "execution_count": 160,
      "outputs": []
    },
    {
      "cell_type": "markdown",
      "metadata": {
        "id": "mYc__hNkPWTr"
      },
      "source": [
        ""
      ]
    },
    {
      "cell_type": "markdown",
      "metadata": {
        "id": "f0rjtbfFPWUn"
      },
      "source": [
        "# **removed un-necessary columns**"
      ]
    },
    {
      "cell_type": "code",
      "metadata": {
        "id": "e2_of1lrJoj4"
      },
      "source": [
        "df = pd.read_csv(\"/content/temp_lowest_price.csv\")"
      ],
      "execution_count": 169,
      "outputs": []
    },
    {
      "cell_type": "code",
      "metadata": {
        "id": "y37H-B5JMwXb"
      },
      "source": [
        "final_data_frame = df.drop(labels='PRICE',axis='columns')"
      ],
      "execution_count": 171,
      "outputs": []
    },
    {
      "cell_type": "code",
      "metadata": {
        "id": "_i_ZL99_NIfO"
      },
      "source": [
        "final_data_frame.head()"
      ],
      "execution_count": null,
      "outputs": []
    },
    {
      "cell_type": "markdown",
      "metadata": {
        "id": "xwPvzx4EPfd3"
      },
      "source": [
        "# **Final Output file - \"lowestPrice.csv\"**"
      ]
    },
    {
      "cell_type": "code",
      "metadata": {
        "id": "cMzyqTuDNLfe"
      },
      "source": [
        "final_data_frame.to_csv('lowestPrice.csv',index=False)"
      ],
      "execution_count": 176,
      "outputs": []
    }
  ]
}